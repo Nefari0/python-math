{
 "cells": [
  {
   "cell_type": "code",
   "execution_count": null,
   "metadata": {},
   "outputs": [],
   "source": [
    "import sympy as sym\n",
    "import numpy as np\n",
    "import matplotlib.pyplot as plt\n",
    "import re\n",
    "import string\n",
    "from IPython.display import display,Math\n",
    "import scipy as sci\n",
    "from scipy.signal import find_peaks\n",
    "import sympy.plotting.plot as symplot"
   ]
  },
  {
   "cell_type": "markdown",
   "metadata": {},
   "source": [
    "### Plotting Lines"
   ]
  },
  {
   "cell_type": "code",
   "execution_count": null,
   "metadata": {},
   "outputs": [],
   "source": [
    "# plotting lines\n",
    "\n",
    "x = sym.symbols('x')\n",
    "y = sym.sqrt(sym.Abs(x))\n",
    "\n",
    "for pnti in range(-20,21):\n",
    "    plt.plot([0,pnti],[0,y.subs(x,pnti)])\n",
    "\n",
    "plt.xlabel('x')\n",
    "plt.ylabel('y')\n",
    "\n",
    "plt.show()"
   ]
  },
  {
   "cell_type": "code",
   "execution_count": null,
   "metadata": {},
   "outputs": [],
   "source": [
    "# plotting lines2\n",
    "x = 3\n",
    "y = 5\n",
    "# plt.plot(x,y,'ro')\n",
    "# plt.plot([0,x],[0,y]) # plots streight line \n",
    "\n",
    "plt.axis('square')\n",
    "plt.axis([-6,6,-6,6])\n",
    "plt.grid()\n",
    "\n",
    "#----------------left/bottom\n",
    "plt.plot([-2,2],[-2,-2]) # horizontal line (at bottom)\n",
    "plt.plot([-2,-2],[-2,2]) # vertical line (at left)\n",
    "#----------------right/top\n",
    "plt.plot([2,-2],[2,2]) # horizontal line (at top)\n",
    "plt.plot([2,2],[2,-2]) # vertical line (at right)\n",
    "\n",
    "plt.show()"
   ]
  },
  {
   "cell_type": "markdown",
   "metadata": {},
   "source": [
    "### Minima and Maxima of a Function"
   ]
  },
  {
   "cell_type": "code",
   "execution_count": null,
   "metadata": {},
   "outputs": [],
   "source": [
    "# minima and minima of a function\n",
    "x = np.linspace(0,12*np.pi,213)\n",
    "fx = -np.cos(x) - np.sqrt(x)\n",
    "\n",
    "peeks = find_peaks(fx)\n",
    "print(len(peeks))\n",
    "\n",
    "plt.plot(x,fx)\n",
    "plt.plot(x[peeks[0]],fx[peeks[0]],'o')\n",
    "plt.show()"
   ]
  },
  {
   "cell_type": "markdown",
   "metadata": {},
   "source": [
    "### Parabolas"
   ]
  },
  {
   "cell_type": "code",
   "execution_count": null,
   "metadata": {},
   "outputs": [],
   "source": [
    "# parabolas\n",
    "a = 1 # 1/4p = a, 1 = a4p, , 1/4a\n",
    "p = 1/(4*a)\n",
    "h = -10\n",
    "k = -2\n",
    "n = 100\n",
    "\n",
    "# x-axis point to evaluate the function\n",
    "x = np.linspace(h-2,h+2,n)\n",
    "\n",
    "# create the function\n",
    "y = a*(x-h)**2 + k\n",
    "\n",
    "# plot the parabola\n",
    "plt.plot(x,y,label='Parabola')\n",
    "\n",
    "# plot the vertex\n",
    "plt.plot(h,k,'ro',label='Vertex')\n",
    "\n",
    "# plot the focus\n",
    "plt.plot(h,k+p,'go',label='Focus')\n",
    "\n",
    "# plot the directrix\n",
    "d = k-p\n",
    "plt.plot(x[[0,-1]],[d,d],label='Directrix')\n",
    "\n",
    "plt.legend()\n",
    "plt.grid()\n",
    "plt.show()"
   ]
  },
  {
   "cell_type": "markdown",
   "metadata": {},
   "source": [
    "### Cumputing Tangent Lines"
   ]
  },
  {
   "cell_type": "code",
   "execution_count": null,
   "metadata": {},
   "outputs": [],
   "source": [
    "def computetangent(f,xa,bnds):\n",
    "    # defining derivative and values at point xa\n",
    "    df = sym.diff(f)\n",
    "    fa = f.subs(x,xa)\n",
    "    dfa = df.subs(x,xa)\n",
    "    \n",
    "    # evaluate the tangent line\n",
    "    xx = np.linspace(bnds[0],bnds[1],200)\n",
    "    return dfa * (xx-xa) + fa\n",
    "    \n",
    "x = sym.symbols('x')\n",
    "f = x**2\n",
    "xx = np.linspace(-2,2,200)\n",
    "ffun = sym.lambdify(x,f)(xx)\n",
    "\n",
    "\n",
    "for a in xx:\n",
    "    y = computetangent(f,a,xx[[0,-1]])\n",
    "    plt.plot(xx,y,color=[abs(a)/3,abs(a)/4,abs(a)/2])\n",
    "\n",
    "    \n",
    "# plt.text(-.5, 1.5, r'$tan(x^2)$', # original\n",
    "#          fontsize=40)\n",
    "# plt.style.use('dark_background') # original color\n",
    "# plt.style.use('seaborn-darkgrid')\n",
    "\n",
    "# ------default text-------\n",
    "plt.text(-.53, 2.52, r'$tan(x^2)$',fontstyle='italic',fontsize=40)\n",
    "plt.text(-.55, 2.55, r'$tan(x^2)$',color=(0.1, 0.2, 0.5),fontsize=40)\n",
    "\n",
    "# -------------------------\n",
    "\n",
    "# ----lagrange notation-----\n",
    "# plt.text(-1.965,1.465,'$t = f\\'_a(x - x_a) + f_a$',fontsize=25)\n",
    "# plt.text(-2,1.5,'$t = f\\'_a(x - x_a) + f_a$',color=(0.1, 0.2, 0.5),fontsize=25)\n",
    "# ----leibniz notation-----\n",
    "plt.text(-1.965,1.465,'$t = \\\\frac{df}{dx}_a(x - x_a) + f_a$',fontsize=25)\n",
    "plt.text(-1.978,1.49,'$t = \\\\frac{df}{dx}_a(x - x_a) + f_a$',color=(0.1, 0.2, 0.5),fontsize=25)\n",
    "# -2,1.5, default\n",
    "\n",
    "\n",
    "\n",
    "# plt.text(-2, 1.5, '$t = f\\'_a(x - x_a) + f_a$',fontsize=25)\n",
    "plt.plot(xx,ffun)\n",
    "plt.style.use('dark_background') # original color\n",
    "# plt.style.use('seaborn-darkgrid')\n",
    "plt.axis('square')\n",
    "plt.axis([-2,2,-1,3])\n",
    "plt.axis('off')\n",
    "# plt.savefig('tan.png') # exports as image\n",
    "plt.savefig('tanAlpha.png',transparent=True) # exports as figure # alpha channel test\n",
    "plt.show()"
   ]
  },
  {
   "cell_type": "markdown",
   "metadata": {},
   "source": [
    "### Graphing Rational Functions"
   ]
  },
  {
   "cell_type": "code",
   "execution_count": null,
   "metadata": {},
   "outputs": [],
   "source": [
    "# graphing rational functions\n",
    "x = np.linspace(-4,4,100)\n",
    "e = range(-1,4)\n",
    "plt.style.use('default')\n",
    "\n",
    "for i in e:\n",
    "    y = x**i\n",
    "    plt.plot(x,y,label='$y=x^{%s}$' %i,linewidth=4) # encased in $ converts to latex, x^{%s} show latex exponent\n",
    "    \n",
    "plt.legend()\n",
    "plt.xlim([x[0],x[-1]])\n",
    "plt.ylim([-20,20])\n",
    "\n",
    "# plt.savefig('coolPythonGraph.png') # exports as figure\n",
    "plt.savefig('coolPythonGrapha.png',transparent=True) # exports as figure # alpha channel test\n",
    "# fig.savefig('Sub Directory/graph.png') # example with path\n",
    "plt.show()"
   ]
  },
  {
   "cell_type": "code",
   "execution_count": null,
   "metadata": {},
   "outputs": [],
   "source": [
    "# Creating contours from mesh in Python\n",
    "x = np.linspace(-2,2,100)\n",
    "X,Y = np.meshgrid(x,x)\n",
    "s = 2\n",
    "plt.style.use('default')\n",
    "\n",
    "gauss2d = np.exp( -(X**2 + Y**2)/s)\n",
    "\n",
    "plt.imshow(gauss2d)\n",
    "plt.axis('off')\n",
    "plt.show()"
   ]
  },
  {
   "cell_type": "markdown",
   "metadata": {},
   "source": [
    "### Graphing Circles"
   ]
  },
  {
   "cell_type": "code",
   "execution_count": null,
   "metadata": {},
   "outputs": [],
   "source": [
    "# graphing circles\n",
    "h = [-1.5,1.5]\n",
    "\n",
    "x = np.linspace(-5,5,100)\n",
    "X,Y = np.meshgrid(x,x)\n",
    "\n",
    "for r in np.linspace(.5,3,15):\n",
    "    for hi in h:\n",
    "        Fxy = (X-hi)**2 + Y**2 - r**2\n",
    "        plt.contour(X,Y,Fxy,0,colors=[r/3,r/3,r/3])\n",
    "\n",
    "plt.axis('off')\n",
    "plt.style.use('default')\n",
    "plt.gca().set_aspect('equal')\n",
    "plt.plot(h,[0,0],'k',linewidth=3)\n",
    "plt.show()\n"
   ]
  },
  {
   "cell_type": "code",
   "execution_count": null,
   "metadata": {},
   "outputs": [],
   "source": [
    "# Graphing circles2\n",
    "h = 2\n",
    "k = -3\n",
    "r = 3\n",
    "\n",
    "\n",
    "\n",
    "\n",
    "axlim = r + np.max((abs(h),abs(k)))\n",
    "x = np.linspace(-axlim,axlim,100)\n",
    "\n",
    "X,Y = np.meshgrid(x,x)\n",
    "\n",
    "# Fxy = (X-h)**2 + (Y-k)**2 = r**2\n",
    "Fxy = (X-h)**2 + (Y-k)**2 -r**2\n",
    "\n",
    "plt.contour(X,Y,Fxy,0)\n",
    "plt.plot([-axlim,axlim],[0,0],'k--')\n",
    "plt.plot([0,0],[-axlim,axlim],'k--')\n",
    "plt.plot(h,k,'go')\n",
    "\n",
    "# plt.axis('square')\n",
    "plt.gca().set_aspect('equal')\n",
    "plt.show()"
   ]
  },
  {
   "cell_type": "markdown",
   "metadata": {},
   "source": [
    "### Graphing Ellipses"
   ]
  },
  {
   "cell_type": "code",
   "execution_count": null,
   "metadata": {},
   "outputs": [],
   "source": [
    "# Graphing ellipses\n",
    "h = 0\n",
    "# k = np.linspace(-4,4,50) # default\n",
    "k = np.linspace(-4,4,100)\n",
    "kl = len(k)\n",
    "colors = np.linspace(.1,.9,kl)\n",
    "b = 4\n",
    "\n",
    "x = np.linspace(-5,5,len(k))\n",
    "X,Y = np.meshgrid(x,x)\n",
    "\n",
    "for r in range(len(k)):\n",
    "    ellipse = (X-h)**2/abs(k[r])**2 + (Y-k[r])**2/b**2 - 1\n",
    "    plt.contour(X,Y,ellipse,0,\\\n",
    "    colors=[colors[r],colors[r],colors[r]])\n"
   ]
  },
  {
   "cell_type": "markdown",
   "metadata": {},
   "source": [
    "### Graphing Hyperbolas"
   ]
  },
  {
   "cell_type": "code",
   "execution_count": null,
   "metadata": {},
   "outputs": [],
   "source": [
    "# graphing hyperbolas\n",
    "n = 16\n",
    "ab = np.linspace(1,5,n)\n",
    "\n",
    "axlim = 8\n",
    "x = np.linspace(-axlim,axlim,100)\n",
    "X,Y = np.meshgrid(x,x)\n",
    "\n",
    "\n",
    "#---------------------------\n",
    "for i in range(0,n):\n",
    "    F1 = X**2/ab[i]**2 - Y**2/ab[i]**2 - 1\n",
    "    plt.contour(X,Y,F1,0)\n",
    "    \n",
    "    F2 = X**2/ab[i]**2 + Y**2/ab[i]**2 - 1\n",
    "    plt.contour(X,Y,F2,0)\n",
    "# ------------\n",
    "for i in range(0,n):\n",
    "    F1 = X**2/ab[i]**2 - Y**2/ab[i]**2 - 1\n",
    "    plt.contour(F1,0)\n",
    "    \n",
    "    F2 = X**2/ab[i]**2 + Y**2/ab[i]**2 - 1\n",
    "    plt.contour(F2,0)\n",
    "    \n",
    "plt.axis('off')\n",
    "plt.gca().set_aspect('equal')\n",
    "plt.show()"
   ]
  },
  {
   "cell_type": "markdown",
   "metadata": {},
   "source": [
    "### Compute Remainder / Modulus"
   ]
  },
  {
   "cell_type": "code",
   "execution_count": null,
   "metadata": {},
   "outputs": [],
   "source": [
    "# compute remainder\n",
    "\n",
    "# create a function that inputs two numbers and reports the numbers, \n",
    "# their integer division, and remainder\n",
    "\n",
    "# define the function\n",
    "def computeremainder():\n",
    "    x = int( input('Input numerator: ') )\n",
    "    y = int( input('Input denominator: ') )\n",
    "    division  = int( x/y )\n",
    "    remainder = x%y\n",
    "    \n",
    "    print(\"%g goes into %g, %g times with a remainder of %g.\" %(y,x,division,remainder))\n",
    "    \n",
    "computeremainder()"
   ]
  },
  {
   "cell_type": "markdown",
   "metadata": {},
   "source": [
    "### Compute Powers of Larger Magnitute Numbers"
   ]
  },
  {
   "cell_type": "code",
   "execution_count": null,
   "metadata": {},
   "outputs": [],
   "source": [
    "# compute powers of larger magnitude numbers\n",
    "# create a function that takes two numbers as input, \n",
    "# and returns the larger-magnitude number to the power of the smaller-magnitude number\n",
    "\n",
    "def powerfun():\n",
    "    n1 = int( input('Input one number ') )\n",
    "    n2 = int( input('Input a second number ') )\n",
    "    \n",
    "    # test\n",
    "    if abs(n1)>abs(n2):\n",
    "        return n1,n2,n1**n2\n",
    "    else:\n",
    "        return n2,n1,n2**n1\n",
    "    \n",
    "# ---- test function here -----\n",
    "first,second,outcome = powerfun()\n",
    "\n",
    "display(Math('%g^{%g} = %g '%(first,second,outcome)))"
   ]
  },
  {
   "cell_type": "markdown",
   "metadata": {},
   "source": [
    "### Compute Power or Devision"
   ]
  },
  {
   "cell_type": "code",
   "execution_count": null,
   "metadata": {},
   "outputs": [],
   "source": [
    "# compute power or devision\n",
    "\n",
    "# input three numbers from user, x, y, and a switch option\n",
    "#    Create two functions that will compute x**y and x/y\n",
    "#    call the appropriate function and print the result\n",
    "\n",
    "from IPython.display import display,Math\n",
    "\n",
    "# create functions\n",
    "def powers(x,y):\n",
    "    display(Math('%g^{%g} = %g' %(x,y,x**y)))\n",
    "\n",
    "def division(x,y):\n",
    "    display(Math('\\\\frac{%g}{%g} = %g' %(x,y,x/y)))\n",
    "    \n",
    "def mainfunction():\n",
    "    x = int(input('input X: '))\n",
    "    y = int(input('input Y: '))\n",
    "    display(Math('\\\\text{Press \"1\" to compute} %g^{%g}\\\\text{ or \"2\" to compute }\\\\frac{%g}{%g}' %(x,y,x,y)))\n",
    "    which = int(input(' '))\n",
    "    \n",
    "    if which==1:\n",
    "        powers(x,y)\n",
    "    elif which==2:\n",
    "        division(x,y)\n",
    "    else:\n",
    "        print('Invalid selection!')\n",
    "        \n",
    "        \n",
    "# -------execute-------\n",
    "mainfunction()"
   ]
  },
  {
   "cell_type": "markdown",
   "metadata": {},
   "source": [
    "### Guessing Number. random.randint()"
   ]
  },
  {
   "cell_type": "code",
   "execution_count": null,
   "metadata": {},
   "outputs": [],
   "source": [
    "# guess a number! game\n",
    "# write code to generate a random integer and then input user guesses of that integer. \n",
    "# The code should tell the user to guess higher or lower until they get the right answer.\n",
    "\n",
    "from numpy import random\n",
    "\n",
    "def guessTheNumber():\n",
    "    num2guess = random.randint(1,101)\n",
    "    \n",
    "    userguess = int( input('Guess a number between 1 and 100  ') )\n",
    "    while userguess!=num2guess:\n",
    "        if userguess>num2guess:\n",
    "            print('Guess lower!')\n",
    "        elif userguess<num2guess:\n",
    "            print('Guess higher!')\n",
    "        \n",
    "        userguess = int( input('Guess again ') )\n",
    "    \n",
    "    print('Got it! The right number was %g and your final guess was %g'%(num2guess,userguess))\n",
    "\n",
    "    \n",
    "# ---- execute------\n",
    "guessTheNumber()"
   ]
  },
  {
   "cell_type": "markdown",
   "metadata": {},
   "source": [
    "### Compute Squares"
   ]
  },
  {
   "cell_type": "code",
   "execution_count": null,
   "metadata": {},
   "outputs": [],
   "source": [
    "# compute squares\n",
    "x,y = sym.symbols('x,y')\n",
    "#expr = x**2 + 4 this line was used in original script. no longer used\n",
    "for num in range(-2,3):\n",
    "    ans = (x+4).subs(x,num**2)\n",
    "    display(Math('\\\\text{with x} = %g, x^2 +4 \\\\quad \\\\Rightarrow \\\\quad %g^2 -4= %g' %(num,num, ans)))"
   ]
  },
  {
   "cell_type": "markdown",
   "metadata": {},
   "source": [
    "### Deviding Polynomials"
   ]
  },
  {
   "cell_type": "code",
   "execution_count": null,
   "metadata": {},
   "outputs": [],
   "source": [
    "# ----deviding polynomials----\n",
    "x,y = sym.symbols('x,y')\n",
    "\n",
    "pNum = x**6 +2*x**4 +6*x-y\n",
    "pDem = x**3 + 3\n",
    "\n",
    "for yi in range(5,16):\n",
    "    \n",
    "    tempNum = pNum.subs(y,yi)\n",
    "    display(Math('%s = %s ' %(sym.latex(tempNum/pDem),sym.latex(sym.simplify(tempNum/pDem)))))\n",
    "    \n",
    "    if sym.fraction(sym.simplify(tempNum/pDem))[1]==1:\n",
    "        rightans = yi\n",
    "        \n",
    "print('the answer that satisfies our goal ia y=%g' %(rightans))"
   ]
  },
  {
   "cell_type": "markdown",
   "metadata": {},
   "source": [
    "### Multiplication Table"
   ]
  },
  {
   "cell_type": "code",
   "execution_count": null,
   "metadata": {},
   "outputs": [],
   "source": [
    "# multiplication table\n",
    "nums = range(1,11)\n",
    "\n",
    "matmult = np.zeros((len(nums),len(nums)),dtype=int) # dtype=int removes '.0' from each element\n",
    "\n",
    "for rowi in nums:\n",
    "    for coli in nums:\n",
    "        matmult[rowi-1,coli-1] = (rowi)*(coli)\n",
    "                   \n",
    "display(Math(sym.latex(sym.sympify(matmult))))"
   ]
  },
  {
   "cell_type": "markdown",
   "metadata": {},
   "source": [
    "### Factoring Polynomials"
   ]
  },
  {
   "cell_type": "code",
   "execution_count": null,
   "metadata": {},
   "outputs": [],
   "source": [
    "# Factoring polynomials\n",
    "\n",
    "exprs = [ x**2 + 4*x + 3 , 2*y**2-1 , 3*y**2 + 12*y]\n",
    "\n",
    "for ei in exprs:\n",
    "    stringfact = str(sym.factor(ei))\n",
    "    \n",
    "    if stringfact.find('(') !=-1:\n",
    "        display(Math('%s \\\\quad \\\\Rightarrow \\\\quad %s' %(sym.latex(ei),sym.latex(sym.latex(ei)))))\n",
    "    else:\n",
    "        display(Math('%s \\\\quad \\\\Rightarrow \\\\quad \\\\text{Not factorable}' %(sym.latex(ei))))\n",
    "\n",
    "#     print(stringfact)"
   ]
  },
  {
   "cell_type": "markdown",
   "metadata": {},
   "source": [
    "### Eplanding Terms"
   ]
  },
  {
   "cell_type": "code",
   "execution_count": null,
   "metadata": {},
   "outputs": [],
   "source": [
    "# expanding terms\n",
    "\n",
    "# f(x,y) = (4 +x )(2 - y)\n",
    "# substitute x,y with {0,1,2}\n",
    "# print(when x = 0 and y = 0, f(x,y)=8)\n",
    "from sympy.abc import x\n",
    "from sympy.abc import y\n",
    "fxy = (4+x)*(2-y)\n",
    "\n",
    "numrange = range(0,3)\n",
    "\n",
    "for xi in numrange:\n",
    "    for yi in numrange:\n",
    "        print('when x = %g and y = %g, f(x,y) = %g' %(xi,yi,fxy.subs({x:xi,y:yi})))\n",
    "    \n",
    "# for i in range(30):\n",
    "#     display(Math(sym.latex(expr.subs({x:i,y:i}))))"
   ]
  },
  {
   "cell_type": "markdown",
   "metadata": {},
   "source": [
    "### Expanding Expressions"
   ]
  },
  {
   "cell_type": "code",
   "execution_count": null,
   "metadata": {},
   "outputs": [],
   "source": [
    "# expanding expressions\n",
    "# use sympy to expand and simplify these expressions\n",
    "x = sym.symbols('x')\n",
    "\n",
    "e1 = 2*x + x*(4-6*x) + x\n",
    "e2 = -x * (2/x + 4/(x**2)) + (4+x)/(4*x)\n",
    "e3 = (x + 3)*(x-3)*x*(1/(9*x))\n",
    "\n",
    "# make a list of the expressions\n",
    "exprs = [e1,e2,e3]\n",
    "\n",
    "for i in range(0,3):\n",
    "    display(Math('%s \\\\quad \\\\Longleftrightarrow \\\\quad %s' %(sym.latex(exprs[i]),sym.latex(sym.expand(exprs[i])))))"
   ]
  },
  {
   "cell_type": "markdown",
   "metadata": {},
   "source": [
    "### Simplify With Matrices"
   ]
  },
  {
   "cell_type": "code",
   "execution_count": null,
   "metadata": {},
   "outputs": [],
   "source": [
    "# simplify with matrices\n",
    "x,y = sym.symbols('x,y')\n",
    "fxy = (4+x)*(2-y)\n",
    "\n",
    "xyset = range(0,3)\n",
    "\n",
    "outmat = np.zeros([len(xyset),len(xyset)])\n",
    "\n",
    "for i in xyset:\n",
    "    for j in xyset:\n",
    "        outmat[i,j] = fxy.subs({x:i,y:j})\n",
    "        \n",
    "display(Math(sym.latex(sym.sympify(outmat))))"
   ]
  },
  {
   "cell_type": "markdown",
   "metadata": {},
   "source": [
    "### Greatest Common Denominator"
   ]
  },
  {
   "cell_type": "code",
   "execution_count": null,
   "metadata": {},
   "outputs": [],
   "source": [
    "# greatest common denominator\n",
    "import math\n",
    "\n",
    "\n",
    "# GCD is defined for integers! ie=math.gcd(1,.3)\n",
    "# math.gcd(95,100)\n",
    "math.gcd(0,3)\n",
    "\n",
    "\n",
    "ro = 10\n",
    "co = 15\n",
    "\n",
    "gcdMat = np.zeros([ro,co],dtype=int)+99\n",
    "\n",
    "for rowi in range(0,ro):\n",
    "    for coli in range(0,co):\n",
    "        gcdMat[rowi,coli] = math.gcd(rowi+1,coli+1)\n",
    "\n",
    "display(Math(sym.latex(sym.sympify(gcdMat))))"
   ]
  },
  {
   "cell_type": "markdown",
   "metadata": {},
   "source": [
    "### Solving for X and Y with Dictionaries"
   ]
  },
  {
   "cell_type": "code",
   "execution_count": null,
   "metadata": {},
   "outputs": [],
   "source": [
    "# solving for x and y with dictionaries\n",
    "\n",
    "x,y = sym.symbols('x,y')\n",
    "\n",
    "# count number of x's and y's in the equation\n",
    "D = dict(eqsWithX=[4*x-6,x**2-9],eqsWithY=[sym.sin(y)])\n",
    "\n",
    "# solve them in a loop\n",
    "for keyi in D:\n",
    "    \n",
    "    print('Equations solving for ' + keyi[-1] + ':')\n",
    "    \n",
    "    for i in D[keyi]:\n",
    "        \n",
    "        fullEQ     = sym.latex(sym.sympify(i)) + ' = 0'\n",
    "        middlepart = '\\\\quad\\\\quad \\\\Rightarrow\\\\quad\\\\quad ' + keyi[-1] + ' = '\n",
    "        soln       = sym.latex(sym.solve(i))\n",
    "        \n",
    "        display(Math( '\\\\quad\\\\quad ' + fullEQ + middlepart + soln ))"
   ]
  },
  {
   "cell_type": "markdown",
   "metadata": {},
   "source": [
    "### Compute Composite and Prime"
   ]
  },
  {
   "cell_type": "code",
   "execution_count": null,
   "metadata": {},
   "outputs": [],
   "source": [
    "# compute composit and prime\n",
    "\n",
    "# loop through numbers and report whether each number is composite or \n",
    "# prime\n",
    "\n",
    "nums = range(100,119)\n",
    "for i in nums:\n",
    "    di = sym.factorint(i)\n",
    "    ks = list(di.keys())\n",
    "    if len(di)==1 and di[ks[0]]==1:\n",
    "        print('%s is a prime number' %i)\n",
    "    else:\n",
    "        print('%s is a composite number with prime factors %s' %(i,list(di.keys())))"
   ]
  },
  {
   "cell_type": "markdown",
   "metadata": {},
   "source": [
    "### Adding Polynomials"
   ]
  },
  {
   "cell_type": "code",
   "execution_count": null,
   "metadata": {},
   "outputs": [],
   "source": [
    "# adding polynomials\n",
    "\n",
    "# create a list of polynomials\n",
    "# loop through. if order is even, sum the coeffs. if order is odd, count the number of coeffs\n",
    "\n",
    "polys = [ sym.Poly(2*x + x**2), sym.Poly(-x**3 + 4*x), sym.Poly(x**5-x**4+1/4*x+4) ]\n",
    "\n",
    "for poli in polys:\n",
    "    if poli.degree()%2==0:\n",
    "        print('The degree of %s is even, and the coefficients sum to %s.' %(poli.as_expr(),sum(poli.coeffs())))\n",
    "    else:\n",
    "        print('The degree of %s is odd, and there are %s coefficients.' %(poli.as_expr(),len(poli.coeffs())))"
   ]
  },
  {
   "cell_type": "markdown",
   "metadata": {},
   "source": [
    "### Multiplying Polynomials"
   ]
  },
  {
   "cell_type": "code",
   "execution_count": null,
   "metadata": {},
   "outputs": [],
   "source": [
    "# Multiplying polynomials\n",
    "\n",
    "# with x's and y's, substitute before vs after multiplication\n",
    "x,y = sym.symbols('x,y')\n",
    "\n",
    "fxy = 4*x**4 - 9*y**3 - 3*x**2 + x*y**2\n",
    "gxy = 4/5*y**3 - x**3 + 6*x**2*y\n",
    "\n",
    "display(Math( '(%s)\\quad\\\\times\\quad(%s) \\quad=\\quad %s' %(sym.latex(fxy),sym.latex(gxy),sym.latex(sym.expand(fxy*gxy)) )))"
   ]
  },
  {
   "cell_type": "code",
   "execution_count": null,
   "metadata": {},
   "outputs": [],
   "source": [
    "# first, a primer on sym.fraction\n",
    "\n",
    "num = sym.sympify(3)/sym.sympify(4)\n",
    "# num = sym.sympify(3/4)\n",
    "\n",
    "finfo = sym.fraction(num)\n",
    "print(type(finfo))\n",
    "print(finfo[0])\n",
    "\n",
    "# can also isolate the numerator separately\n",
    "num = sym.fraction(num)[0]\n",
    "print(num)\n",
    "\n",
    "# ---------------------#\n",
    "\n",
    "# use a loop to find the integer value of y that makes this equation simplify\n",
    "pNum = x**6 + 2*x**4 + 6*x  - y\n",
    "pDen = x**3 + 3\n",
    "\n",
    "\n",
    "for i in range(5,16):\n",
    "    \n",
    "    pnum = pNum.subs({y:i})\n",
    "    display(Math('\\\\frac{%s}{%s} = %s' %(sym.latex(pnum),sym.latex(pDen),sym.latex(sym.simplify(pnum/pDen))) ))\n",
    "    \n",
    "    if sym.fraction(sym.simplify(pnum/pDen))[1]==1:\n",
    "        rightnumber = i\n",
    "\n",
    "print( 'When y=%g, there is no denominator!' %rightnumber)"
   ]
  },
  {
   "cell_type": "markdown",
   "metadata": {},
   "source": [
    "### Images from Matrices"
   ]
  },
  {
   "cell_type": "code",
   "execution_count": null,
   "metadata": {},
   "outputs": [],
   "source": [
    "# images from matrices\n",
    "\n",
    "# experimenting with settings from above cell\n",
    "# a(subscript i,j) = 3*i - 4*j\n",
    "A = np.zeros((10,14)) # default\n",
    "# A = np.zeros((20,24))\n",
    "\n",
    "\n",
    "# print(np.shape(A)) # returns shape of matrix ie A = np.zeros((10,14)) has 10 rows 14 cols\n",
    "\n",
    "for i in range(0,np.shape(A)[0]):\n",
    "    for j in range(0,np.shape(A)[1]):\n",
    "        A[i,j] = 3*i - 4*j\n",
    "        \n",
    "\n",
    "plt.imshow(A)\n",
    "# plt.plot([0,3],[8,2],'r',linewidth=4)\n",
    "\n",
    "for i in range(0,np.shape(A)[0]):\n",
    "    for j in range(0,np.shape(A)[1]):\n",
    "        plt.text(j,i,int(A[i,j]),horizontalalignment='center',verticalalignment='center',fontsize=7) # 3 inputs corrospond to x,y,actual text\n",
    "\n",
    "        plt.set_cmap('twilight_shifted')\n",
    "        \n",
    "# plt.savefig('ColorShift.jpg') # exports as image\n",
    "plt.axis('off')\n",
    "plt.show()"
   ]
  },
  {
   "cell_type": "code",
   "execution_count": null,
   "metadata": {},
   "outputs": [],
   "source": [
    "# Images from matrices 2\n",
    "N = 10 # soft coding\n",
    "C = np.zeros((N,N))\n",
    "\n",
    "for i in range(0,N):\n",
    "    for j in range(0,N):\n",
    "        C[i,j] = (-1)**(i+j)\n",
    "        \n",
    "\n",
    "plt.imshow(C)\n",
    "plt.set_cmap('gray')\n",
    "plt.tick_params(labelleft=False,labelbottom=False)\n",
    "plt.axis('off')\n",
    "plt.show()"
   ]
  },
  {
   "cell_type": "markdown",
   "metadata": {},
   "source": [
    "### Plotting coordinates on xy Plane"
   ]
  },
  {
   "cell_type": "code",
   "execution_count": null,
   "metadata": {},
   "outputs": [],
   "source": [
    "# plotting coordinates on xy plane\n",
    "x = sym.symbols('x')\n",
    "y = x**2 - 3*x\n",
    "\n",
    "for pnti in range(-11,11):\n",
    "    plt.plot(pnti,y.subs(x,pnti), 'o')\n",
    "\n",
    "plt.xlabel('x')\n",
    "plt.ylabel('f(x) = %s' %y)\n",
    "plt.show"
   ]
  },
  {
   "cell_type": "markdown",
   "metadata": {},
   "source": [
    "### Plotting Functions with Sympy"
   ]
  },
  {
   "cell_type": "code",
   "execution_count": null,
   "metadata": {},
   "outputs": [],
   "source": [
    "# plotting functions with sympy\n",
    "y = a/(x**2 - a)\n",
    "\n",
    "p = None # clears variable\n",
    "p = symplot(y.subs(a,1),(x,-5,5),show=False)\n",
    "p[0].label = '$%s$' %sym.latex(y.subs(a,1))\n",
    "\n",
    "for i in range(2,5):\n",
    "    p.extend(symplot(y.subs(a,i),(x,-10,10),show=False))\n",
    "#     p.extend(symplot(y.subs(a,i),(x,-5,5),show=False)) # default\n",
    "    p[i-1].label = '$%s$' %sym.latex(y.subs(a,i))\n",
    "    p[i-1].line_color = list(np.random.rand(3)) # creates randon numbers. evenly distributes\n",
    "\n",
    "p.xlim = [-10,10]\n",
    "p.ylim = [-10,10]\n",
    "p.legend = True\n",
    "p.show() "
   ]
  },
  {
   "cell_type": "markdown",
   "metadata": {},
   "source": [
    "### Discreet Derivative"
   ]
  },
  {
   "cell_type": "code",
   "execution_count": null,
   "metadata": {},
   "outputs": [],
   "source": [
    "# discreet derivative\n",
    "x = np.linspace(-2,2,101)\n",
    "f = x**2\n",
    "df = np.diff(f)\n",
    "\n",
    "plt.plot(x,f,label='f')\n",
    "plt.plot(x[0:-1],df,label='df')\n",
    "\n",
    "# plt.grid()\n",
    "plt.axis([-2,2,-1,2])\n",
    "plt.legend()\n",
    "plt.show()"
   ]
  },
  {
   "cell_type": "markdown",
   "metadata": {},
   "source": [
    "### Gaussian"
   ]
  },
  {
   "cell_type": "code",
   "execution_count": null,
   "metadata": {},
   "outputs": [],
   "source": [
    "# Make a gaussian\n",
    "# x = np.linspace(-2,2,100)\n",
    "h = .999\n",
    "x = np.linspace(-3,3,300)\n",
    "r = 3\n",
    "# h = 4\n",
    "k = 2\n",
    "X,Y = np.meshgrid(x,x)\n",
    "\n",
    "# create the gaussian\n",
    "T,Y = np.meshgrid(x,x)\n",
    "gauss2d = np.exp( -(X**2+Y**2) )\n",
    "# gauss2d = np.exp((-4*np.log(2))*(T**2) /( h**2) -Y)\n",
    "\n",
    "# and plot\n",
    "# plt.imshow(gauss2d)\n",
    "plt.plot(gauss2d)\n",
    "# plt.axis('off')\n",
    "plt.show()"
   ]
  },
  {
   "cell_type": "markdown",
   "metadata": {},
   "source": [
    "### Even / Odd Functions"
   ]
  },
  {
   "cell_type": "code",
   "execution_count": null,
   "metadata": {},
   "outputs": [],
   "source": [
    "# even/odd function\n",
    "x = np.linspace(0,2*np.pi,100)\n",
    "co = np.cos(x)\n",
    "negco = np.cos(-x)\n",
    "si = np.sin(x)\n",
    "negsi = np.sin(-x)\n",
    "\n",
    "plt.plot(x,si,label='positive')\n",
    "plt.plot(x,negsi,label='negative')\n",
    "plt.title('sine')\n",
    "plt.legend()\n",
    "plt.subplots()\n",
    "plt.plot(x,co,label='positive')\n",
    "plt.plot(x,negco,label='negative')\n",
    "plt.title('cosine')\n",
    "plt.legend()\n",
    "plt.show()"
   ]
  },
  {
   "cell_type": "markdown",
   "metadata": {},
   "source": [
    "### Complex Roots of Unity"
   ]
  },
  {
   "cell_type": "code",
   "execution_count": null,
   "metadata": {},
   "outputs": [],
   "source": [
    "# complex roots of unity\n",
    "n = 200\n",
    "color = np.linspace(0,.9,n)\n",
    "\n",
    "for k in range(0,n):\n",
    "    z = k*np.exp( 2*np.pi*1j*k/n)\n",
    "    plt.plot([0,np.real(z)],[0,np.imag(z)],color=[color[k],color[k],color[k]])\n",
    "    \n",
    "plt.axis('square')\n",
    "plt.axis('off')\n",
    "plt.show()"
   ]
  },
  {
   "cell_type": "markdown",
   "metadata": {},
   "source": [
    "### Logarithmic and Linearly Spaced Numbers"
   ]
  },
  {
   "cell_type": "code",
   "execution_count": null,
   "metadata": {},
   "outputs": [],
   "source": [
    "# log and linearly spaced numbers\n",
    "a = 2\n",
    "b = 100\n",
    "n = 50\n",
    "\n",
    "li = np.linspace(a,b,n)\n",
    "lo = np.logspace(np.log10(a),np.log10(b),n)\n",
    "\n",
    "plt.plot(li,li,label='linear')\n",
    "plt.plot(li,lo,label='log')\n",
    "\n",
    "plt.legend()\n",
    "plt.axis('square')"
   ]
  },
  {
   "cell_type": "markdown",
   "metadata": {},
   "source": [
    "### Natural Exponents and Logarithm"
   ]
  },
  {
   "cell_type": "code",
   "execution_count": null,
   "metadata": {},
   "outputs": [],
   "source": [
    "# natural exponents and logarithm\n",
    "x = np.linspace(.0001,10,10)\n",
    "\n",
    "y1 = np.log( np.exp(x) )\n",
    "y2 = np.exp( np.log(x) )\n",
    "\n",
    "plt.plot(x,y1,label='$\\\\log(e^x)$')\n",
    "plt.plot(x,y2,'o',label='$e^{\\\\log(x)}$')\n",
    "plt.legend()"
   ]
  },
  {
   "cell_type": "markdown",
   "metadata": {},
   "source": [
    "### Order of Magnitude Calculator"
   ]
  },
  {
   "cell_type": "code",
   "execution_count": null,
   "metadata": {},
   "outputs": [],
   "source": [
    "# order of magnitude calculator\n",
    "num = 9999\n",
    "# get order of magnitutd\n",
    "orderOfMag = int(np.floor(np.log10(abs(num))))\n",
    "\n",
    "# scientific notation\n",
    "numstr = '{:,e}'.format(num)\n",
    "wheredot = numstr.find('.')\n",
    "scinot = numstr[:wheredot]\n",
    "\n",
    "display(Math('%s \\\\text{ is } %s \\\\text{ orders of magnitude } \\\n",
    " \\\\approx %s \\\\times 10^{%g}'  %(num,orderOfMag,scinot,orderOfMag)))\n"
   ]
  },
  {
   "cell_type": "markdown",
   "metadata": {},
   "source": [
    "### Quadradic Equations"
   ]
  },
  {
   "cell_type": "code",
   "execution_count": null,
   "metadata": {},
   "outputs": [],
   "source": [
    "# quadratic equations\n",
    "\n",
    "# ------------funtion definition: finds roots--------------\n",
    "def quadeq(a,b,c):\n",
    "    \n",
    "    # initialize\n",
    "    out = np.zeros(2)\n",
    "    \n",
    "    # compute\n",
    "    out[0] = (- b + np.lib.scimath.sqrt(b**2 - 4*a*c)) / (2*a)\n",
    "    out[1] = (- b - np.lib.scimath.sqrt(b**2 - 4*a*c)) / (2*a)\n",
    "    \n",
    "    return(out)\n",
    "\n",
    "# -----------------------------------------------------------\n",
    "\n",
    "a =1 \n",
    "b = range(-5,6)\n",
    "c = range(-2,11)\n",
    "\n",
    "M = np.zeros((len(b),len(c)))\n",
    "\n",
    "for bi in range(0,len(b)):\n",
    "    for ci in range(0,len(c)):\n",
    "        M[bi,ci] = quadeq(a,b[bi],c[ci])[0]\n",
    "        \n",
    "plt.imshow(M,extent=[c[0],c[-1],b[0],b[-1]])\n",
    "plt.xlabel('c')\n",
    "plt.ylabel('b')\n",
    "plt.title('a=' + str(a))\n",
    "plt.colorbar()\n",
    "plt.axis('off')\n",
    "plt.show()\n"
   ]
  },
  {
   "cell_type": "code",
   "execution_count": null,
   "metadata": {},
   "outputs": [],
   "source": [
    "# experimental.colormaps\n",
    "# quadratic equations\n",
    "\n",
    "# ------------funtion definition: finds roots--------------\n",
    "def quadeq(a,b,c):\n",
    "    \n",
    "    # initialize\n",
    "    out = np.zeros(2)\n",
    "    \n",
    "    # compute\n",
    "    out[0] = (- b + np.lib.scimath.sqrt(b**2 - 4*a*c)) / (2*a)\n",
    "    out[1] = (- b - np.lib.scimath.sqrt(b**2 - 4*a*c)) / (2*a)\n",
    "    \n",
    "    return(out)\n",
    "\n",
    "# -----------------------------------------------------------\n",
    "\n",
    "a =1 \n",
    "# b = range(-5,6) # default\n",
    "# c = range(-2,11) # default\n",
    "b = range(-25,25)\n",
    "c = range(-20,110)\n",
    "\n",
    "\n",
    "M = np.zeros((len(b),len(c)))\n",
    "\n",
    "for bi in range(0,len(b)):\n",
    "    for ci in range(0,len(c)):\n",
    "        M[bi,ci] = quadeq(a,b[bi],c[ci])[0]\n",
    "        \n",
    "# plt.imshow(M,extent=[c[0],c[-1],b[0],b[-1]])\n",
    "plt.imshow(M,cmap='jet',extent=[c[0],c[-1],b[0],b[-1]])\n",
    "\n",
    "plt.xlabel('c')\n",
    "plt.ylabel('b')\n",
    "plt.title('a=' + str(a))\n",
    "plt.colorbar()\n",
    "# plt.axis('off')\n",
    "plt.show()\n"
   ]
  },
  {
   "cell_type": "markdown",
   "metadata": {},
   "source": [
    "### Unit Circle"
   ]
  },
  {
   "cell_type": "code",
   "execution_count": null,
   "metadata": {},
   "outputs": [],
   "source": [
    "# the unit circle\n",
    "x = np.linspace(-3,1.83,50)\n",
    "k = np.exp(x)\n",
    "\n",
    "for i in k:\n",
    "    plt.plot([0,np.cos(i)],[0,np.sin(i)])\n",
    "    \n",
    "plt.axis('square')\n",
    "# plt.axis('off') # turns off boundry box\n",
    "plt.show()"
   ]
  },
  {
   "cell_type": "markdown",
   "metadata": {},
   "source": [
    "### Converting Between Radians and Degrees"
   ]
  },
  {
   "cell_type": "code",
   "execution_count": null,
   "metadata": {},
   "outputs": [],
   "source": [
    "# converting between radians and degrees\n",
    "def angle_convert_plot():\n",
    "    \n",
    "    #get the inputs from the user\n",
    "    angle = eval( input('What angle to convert?') )\n",
    "    unit = input('Which unit did you input (radians or degrees)?')\n",
    "    \n",
    "    if unit[0].lower() == 'r':\n",
    "        rad = angle\n",
    "        deg = np.rad2deg(angle)\n",
    "    elif unit[0].lower() =='d':\n",
    "        deg = angle\n",
    "        rad = np.deg2rad(angle)\n",
    "    else:\n",
    "        raise ValueError('Unknown Unit!')\n",
    "        \n",
    "    # convert to <360\n",
    "    \n",
    "    deg = deg%360\n",
    "    rad = rad%(2*np.pi)\n",
    "    \n",
    "    # make the graph\n",
    "    plt.plot([0,1],[0,0],'r',linewidth=2)\n",
    "    plt.plot([0,np.cos(rad)],[0,np.sin(rad)],'r',linewidth=3) \n",
    "    plt.axis('square')\n",
    "    plt.axis([-1,1,-1,1])\n",
    "    plt.grid()\n",
    "    plt.title('Anlge is %s$^o$ or %s radians.' %(deg,rad))\n",
    "    plt.show()\n",
    "    \n",
    "# -------- call function----------\n",
    "angle_convert_plot()"
   ]
  },
  {
   "cell_type": "code",
   "execution_count": null,
   "metadata": {},
   "outputs": [],
   "source": [
    "print(r)"
   ]
  },
  {
   "cell_type": "markdown",
   "metadata": {},
   "source": [
    "### Plotting Polar Coordinates"
   ]
  },
  {
   "cell_type": "code",
   "execution_count": null,
   "metadata": {},
   "outputs": [],
   "source": [
    "# plotting polar coordinates algorithm\n",
    "# this can also be used to axtract the the actual coordinates for use in blender geometry\n",
    "\n",
    "# variable for displaying math notations/functions\n",
    "x,y = sym.symbols('x,y')\n",
    "# sym_func()\n",
    "\n",
    "xx = np.linspace(0,2*np.pi,200)\n",
    "funci = 4+np.cos(3*xx)+np.sin(2*xx)\n",
    "\n",
    "\n",
    "# empty arrays are to store the sin and cosin values for the polar plots\n",
    "func_sin = []\n",
    "func_cosin = []\n",
    "\n",
    "# extent = list(range(len(xx)))\n",
    "\n",
    "\n",
    "# this loop iterates through funci elements and executes polar plots / saves to new coord to new array\n",
    "for i in range(len(xx)):\n",
    "#     plt.plot(funci[i]*np.cos(xx[i]),funci[i]*np.sin(xx[i]),'ro') # manual plot of individual coordinates\n",
    "\n",
    "    func_sin.append(funci[i]*np.sin(xx[i]))\n",
    "    func_cosin.append(funci[i]*np.cos(xx[i]))\n",
    "    \n",
    "\n",
    "   \n",
    "# plots the polor coordinates using conventional cartesian techniques\n",
    "plt.plot(func_sin,func_cosin,label='')\n",
    "plt.legend()\n",
    "\n",
    "plt.title('Polar plot')\n",
    "# plt.plot(xx,funci,'go')\n",
    "# plt.xlabel('label')\n",
    "plt.axis('square')\n",
    "plt.grid()\n",
    "# plt.subplots()\n",
    "plt.show()"
   ]
  },
  {
   "cell_type": "markdown",
   "metadata": {},
   "source": [
    "### Unit Circle"
   ]
  },
  {
   "cell_type": "code",
   "execution_count": null,
   "metadata": {
    "scrolled": false
   },
   "outputs": [],
   "source": [
    "size = 100\n",
    "circle = np.linspace(0,2*np.pi,size)\n",
    "thsym = 2*sym.pi/3\n",
    "angle = float(thsym)\n",
    "x = np.linspace(0,angle,size)\n",
    "\n",
    "# create circle\n",
    "plt.plot(np.cos(circle),np.sin(circle))\n",
    "plt.plot([-1.3,1.3],[0,0],'--',color=[.8,.8,.8])\n",
    "plt.plot([0,0],[-1.3,1.3],'--',color=[.8,.8,.8])\n",
    "plt.axis('square')\n",
    "\n",
    "# plot the angle\n",
    "plt.plot(np.cos(angle),np.sin(angle),'ko')\n",
    "plt.plot(np.cos(x),np.sin(x),'k',linewidth=3)\n",
    "\n",
    "# plot sin/cos\n",
    "# plt.plot([0,0],[np.cos(angle),np.sin(angle)])\n",
    "plt.plot([0,np.cos(angle)],[0,0],'r-',linewidth=3,label='cos part')\n",
    "plt.plot([0,0],[0,np.sin(angle)],'b',linewidth=3,label='sin part')\n",
    "#testing\n",
    "# plt.plot([np.cos(angle),np.sin(angle)],[.5,.0],'y',linewidth=3)\n",
    "plt.plot([np.cos(angle),np.cos(angle)],[0,np.sin(angle)],'k--',\\\n",
    "         linewidth=1)\n",
    "plt.plot([np.cos(angle),0],[np.sin(angle),np.sin(angle)],'k--',\\\n",
    "         linewidth=1)\n",
    "plt.plot([0,np.cos(angle)],[0,np.sin(angle)],'k--',\\\n",
    "        linewidth=1)\n",
    "\n",
    "# plt.title('$\\\\theta = $',sym.sympify(angle))\n",
    "plt.title('$\\\\theta = %s$' %(sym.latex(thsym)))\n",
    "# plt.xlabel('cos part')\n",
    "plt.legend()\n",
    "plt.show()"
   ]
  },
  {
   "cell_type": "markdown",
   "metadata": {},
   "source": [
    "### 3D plot of Unit Circle"
   ]
  },
  {
   "cell_type": "code",
   "execution_count": null,
   "metadata": {},
   "outputs": [],
   "source": [
    "# This cell performs the same calculations\n",
    "# as the above cell, but generates a 3D plot\n",
    "\n",
    "size = 100\n",
    "circle = np.linspace(0,2*np.pi,size)\n",
    "thsym = 2*sym.pi/3\n",
    "angle = float(thsym)\n",
    "x = np.linspace(0,angle,size)\n",
    "fig = plt.figure()\n",
    "ax = plt.axes(projection = '3d')\n",
    "ax.set_aspect(\"auto\")\n",
    "\n",
    "# create circle\n",
    "# plt.plot(np.cos(circle),np.sin(circle))\n",
    "ax.plot3D(np.cos(circle),np.sin(circle))\n",
    "ax.plot([-1.3,1.3],[0,0],'--',color=[.8,.8,.8])\n",
    "ax.plot([0,0],[-1.3,1.3],'--',color=[.8,.8,.8])\n",
    "# plt.axis('square')\n",
    "\n",
    "# plot the angle\n",
    "ax.plot(np.cos(angle),np.sin(angle),'ko')\n",
    "ax.plot(np.cos(x),np.sin(x),'k',linewidth=3)\n",
    "\n",
    "# plot sin/cos\n",
    "# ax.plot([0,0],[np.cos(angle),np.sin(angle)])\n",
    "ax.plot([0,np.cos(angle)],[0,0],'r-',linewidth=3,label='cos part')\n",
    "ax.plot([0,0],[0,np.sin(angle)],'b',linewidth=3,label='sin part')\n",
    "#testing\n",
    "# plt.plot([np.cos(angle),np.sin(angle)],[.5,.0],'y',linewidth=3)\n",
    "ax.plot([np.cos(angle),np.cos(angle)],[0,np.sin(angle)],'k--',\\\n",
    "         linewidth=1)\n",
    "ax.plot([np.cos(angle),0],[np.sin(angle),np.sin(angle)],'k--',\\\n",
    "         linewidth=1)\n",
    "ax.plot([0,np.cos(angle)],[0,np.sin(angle)],'k--',\\\n",
    "        linewidth=1)\n",
    "\n",
    "# plt.title('$\\\\theta = $',sym.sympify(angle))\n",
    "plt.title('$\\\\theta = %s$' %(sym.latex(thsym)))\n",
    "# plt.xlabel('cos part')\n",
    "plt.legend()\n",
    "plt.show()"
   ]
  },
  {
   "cell_type": "markdown",
   "metadata": {},
   "source": [
    "### Analyzing Polar Plots"
   ]
  },
  {
   "cell_type": "code",
   "execution_count": null,
   "metadata": {},
   "outputs": [],
   "source": [
    "# plotting polar coordinates algorithm\n",
    "# this can also be used to axtract the the actual coordinates for use in blender geometry\n",
    "# in this cell I add code to analyze the radius of a specicific point on the computed polor coordinates\n",
    "\n",
    "\n",
    "# variable for displaying math notations/functions\n",
    "x,y = sym.symbols('x,y')\n",
    "# sym_func()\n",
    "\n",
    "# default function definitions\n",
    "# rotation = 0 # default\n",
    "# rotation = .24 # testing\n",
    "rotation = float(input('enter number for Rotation ')) # for xx rotation testing\n",
    "\n",
    "# elements in xx\n",
    "elements = 20\n",
    "# xx = np.linspace(0,2*np.pi,20) # default\n",
    "xx = np.linspace(+rotation,2*np.pi+rotation,elements) # rotation testing \n",
    "funci = 4+np.cos(3*xx)+np.sin(2*xx)\n",
    "# empty arrays are to store the sin and cosin values for the polar plots\n",
    "x = [] # func_sin\n",
    "y = [] # func_cosin\n",
    "\n",
    "# this loop iterates through funci elements and executes polar plots / saves to new coord to new array\n",
    "for i in range(len(xx)):\n",
    "#     plt.plot(funci[i]*np.cos(xx[i]),funci[i]*np.sin(xx[i]),'ro') # manual plot of individual coordinates\n",
    "\n",
    "    x.append(funci[i]*np.sin(xx[i]))\n",
    "    y.append(funci[i]*np.cos(xx[i]))\n",
    "    \n",
    "#     adding rotation testing coords # the below code has been successfully tested\n",
    "#     x_test.append(funci_test[i]*np.sin(xx_test[i]))\n",
    "#     y_test.append(funci_test[i]*np.cos(xx_test[i]))\n",
    "    \n",
    "# these sections of x and y indicate the first few indeces for analytics\n",
    "x_dot = x[0:6]\n",
    "y_dot = y[0:6]\n",
    "plt.plot(x_dot,y_dot)\n",
    "# seg_coord = 5\n",
    "\n",
    "# the is to indicate a segment to analyze specified radius\n",
    "# coord1 = 5 # default\n",
    "coord1 = int(input('Add integer indicating index for analysis'))\n",
    "# coords = [0,4,6] # these coords are for visual analytics\n",
    "\n",
    "# ----pending removal----\n",
    "# coord2 = 4 \n",
    "# coord3 = 6 \n",
    "# coord1 = int(input('please input a number'))\n",
    "# -----------------------\n",
    "\n",
    "\n",
    "    \n",
    "# for i in range(len(xx)):\n",
    "    \n",
    "#     diff = np.diff(func_cosin[i],func_sin[i])\n",
    "#     print('diff',diff,'original coords',func_cosin[i],func_sin[i])\n",
    "    \n",
    "\n",
    "   \n",
    "# plots the polor coordinates using conventional cartesian techniques\n",
    "plt.plot(x,y,'ro') # default\n",
    "\n",
    "# ---- pending removal ---- # \n",
    "# for i in coords:\n",
    "#     plt.plot(x[i],y[i],'bo')\n",
    "# plt.plot(x[coord2],y[coord2],'yo')\n",
    "# plt.plot(x[coord3],y[coord3],'go')\n",
    "# -------------------------- #\n",
    "\n",
    "\n",
    "# plt.plot([0,x_dot[seg_coord]],[0,y_dot[seg_coord]]) # default\n",
    "plt.plot([0,x[coord1]],[0,y[coord1]])\n",
    "\n",
    "# for i in range(len(x_dot)):\n",
    "#     plt.plot([0,x_dot[i]],[0,y_dot[i]])\n",
    "    \n",
    "\n",
    "# approximate distance between origins\n",
    "distance = 4.08089 + 5.7857 # default\n",
    "# compute radius at coordinate given above - this denotes radius of first main shape\n",
    "rad = np.sqrt(x[coord1]**2 + y[coord1]**2) # default\n",
    "# compute radius of second shape at corrosponding coordinate\n",
    "rad2 = distance - rad\n",
    "plt.plot(rad*np.cos(xx),rad*np.sin(xx))\n",
    "    \n",
    "# ---- plot radii of second shape ----\n",
    "# shape_2 = np.linspace(0,2*np.pi,elements) # default\n",
    "shape_2 = np.linspace(0,2*np.pi,elements)\n",
    "shape_2 = [.1,.24,.58,.9,.1,.24,1.55]\n",
    "# plt.plot(distance+np.cos(shape_2),np.sin(shape_2))\n",
    "# shape_2_seg = shape_2[0:6]\n",
    "shape_2_seg = [.1,.24,.58,.9,1.24,1.55]\n",
    "shape_plots_y = [5.883900040270026,5.874608838897597,5.865304442915545,5.875995762613117,5.856695433505722,5.887357852173701]\n",
    "# print('shape 2',shape_2[0:5])\n",
    "\n",
    "# for i in range(len(shape_2_seg)):\n",
    "# #     plt.plot(distance+shape_plots_y[i]*np.cos(shape_2_seg[i]),shape_plots_y[i]*np.sin(shape_2_seg[i]),'yo')\n",
    "#     plt.plot(shape_2_seg[i],shape_plots_y[i],'go')\n",
    "# ------------------------------------\n",
    "\n",
    "# --- plot line representing distance between the two origins ---\n",
    "# plt.plot([0,distance],[0,0]) # defaul # this plots a line\n",
    "plt.plot(distance,0,'ro') # plots a dot\n",
    "# ---------------------------------------------------------------\n",
    "\n",
    "# anazysis plot for second shape calculation with distance constant as origin\n",
    "plt.plot([distance,rad],[0,0])\n",
    "# experimental\n",
    "# rotation2 = .2 # this alignment works\n",
    "rotation2 = .19\n",
    "xx_2 = np.linspace(rotation2,2*np.pi+rotation2,20)\n",
    "xx_index = 13\n",
    "# plt.plot(distance+rad2*np.sin(xx_2[xx_index]+mod),rad2*np.cos(xx_2[xx_index]+mod),'yo')\n",
    "# plt.plot(distance)\n",
    "# plt.plot(distance,rad,'go')\n",
    "\n",
    "plt.legend()\n",
    "plt.title('Polar plot')\n",
    "plt.axis('square')\n",
    "plt.axis([-7,15,-6,6])\n",
    "# plt.axis([3,4.5,-1,1.5]) # for closer examination of plot\n",
    "plt.grid('on')\n",
    "plt.show()\n"
   ]
  },
  {
   "cell_type": "markdown",
   "metadata": {},
   "source": [
    "### harmonograph"
   ]
  },
  {
   "cell_type": "code",
   "execution_count": null,
   "metadata": {},
   "outputs": [],
   "source": [
    "# leave these parameters as-is\n",
    "import numpy as np\n",
    "import matplotlib.pyplot as plt\n",
    "n = 1000000\n",
    "t = np.logspace(np.log10(10),np.log10(500),n)\n",
    "\n",
    "# try chaning these parameters\n",
    "# this set of Z parameters is used for animating in sequences to conserve memory\n",
    "Z = np.linspace(-2,2,92)\n",
    "Z1 = np.linspace(-2,-1,12) # one\n",
    "Z2 = np.linspace(-1,0,12) # two\n",
    "Z3 = np.linspace(0,1,12) # three\n",
    "Z4 = np.linspace(1,2,12) # four\n",
    "# reversing sequence\n",
    "Z5 = np.linspace(2,1,12) # five\n",
    "Z6 = np.linspace(1,0,12) # six\n",
    "Z7 = np.linspace(0,-1,12) # seven\n",
    "Z8 = np.linspace(-1,-2,12) # eight\n",
    "\n",
    "# this parameter is for renderng original harmonograph image\n",
    "# A = [  1, 1, 1.5, 1.5 ] # original\n",
    "\n",
    "d = [ .004, .001, .002, .0015 ]\n",
    "f = [   3, 1, 2, 2.5 ]\n",
    "\n",
    "# generate XY value pairs\n",
    "# x = A[0]*np.sin(t*f[0])*np.exp(-d[0]*t) + A[1]*np.sin(t*f[1])*np.exp(-d[1]*t)\n",
    "# y = A[2]*np.sin(t*f[2])*np.exp(-d[2]*t) + A[3]*np.sin(t*f[3])*np.exp(-d[3]*t)\n",
    "\n",
    "# these sequences are for generating animation frames\n",
    "for i in range(len(Z)):\n",
    "    A = [  Z[i], 1,1.5, 1.5 ]\n",
    "    x = A[0]*np.sin(t*f[0])*np.exp(-d[0]*t) + A[1]*np.sin(t*f[1])*np.exp(-d[1]*t)\n",
    "    y = A[1]*np.sin(t*f[2])*np.exp(-d[2]*t) + A[3]*np.sin(t*f[3])*np.exp(-d[3]*t) #original\n",
    "#     y = A[0]*np.sin(t*f[2])*np.exp(-d[2]*t) + A[3]*np.sin(t*f[3])*np.exp(-d[3]*t)\n",
    "\n",
    "    plt.plot(x,y,linewidth=.1)\n",
    "#     plt.savefig('p0harmonograph%g.jpg' %i) # exports as image\n",
    "#     plt.axis('off')\n",
    "    plt.axis('square')\n",
    "#     plt.gca().set_aspect('equal')\n",
    "    plt.xlim([-4,4])\n",
    "    plt.ylim([-4,4])\n",
    "    plt.subplots()\n",
    "    \n",
    "# for i in range(len(Z2)):\n",
    "    \n",
    "    \n",
    "    \n",
    "\n",
    "# plot them!\n",
    "# plt.plot(x,y,'k',linewidth=.1)\n",
    "# plt.axis('off')\n",
    "# plt.grid()\n",
    "# plt.show()"
   ]
  },
  {
   "cell_type": "markdown",
   "metadata": {},
   "source": [
    "### The elementary components of the plot above"
   ]
  },
  {
   "cell_type": "code",
   "execution_count": null,
   "metadata": {},
   "outputs": [],
   "source": [
    "# The elementary components of the plot above\n",
    "plt.plot(np.sin(t*f[0])*np.exp(-d[0]*5*t),linewidth=.5)\n",
    "plt.show()"
   ]
  },
  {
   "cell_type": "code",
   "execution_count": null,
   "metadata": {},
   "outputs": [],
   "source": [
    "# experimental\n",
    "print(len(t))"
   ]
  },
  {
   "cell_type": "code",
   "execution_count": null,
   "metadata": {},
   "outputs": [],
   "source": []
  }
 ],
 "metadata": {
  "kernelspec": {
   "display_name": "Python 3",
   "language": "python",
   "name": "python3"
  },
  "language_info": {
   "codemirror_mode": {
    "name": "ipython",
    "version": 3
   },
   "file_extension": ".py",
   "mimetype": "text/x-python",
   "name": "python",
   "nbconvert_exporter": "python",
   "pygments_lexer": "ipython3",
   "version": "3.8.5"
  }
 },
 "nbformat": 4,
 "nbformat_minor": 4
}
